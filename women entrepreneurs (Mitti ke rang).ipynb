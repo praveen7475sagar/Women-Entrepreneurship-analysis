{
 "cells": [
  {
   "cell_type": "markdown",
   "metadata": {},
   "source": [
    "# Women Entrepreneurship Analysis"
   ]
  },
  {
   "cell_type": "code",
   "execution_count": 296,
   "metadata": {},
   "outputs": [],
   "source": [
    "import numpy as np\n",
    "import pandas as pd"
   ]
  },
  {
   "cell_type": "code",
   "execution_count": 297,
   "metadata": {},
   "outputs": [],
   "source": [
    "df=pd.read_excel('C:\\\\Users\\\\ARUN PRAVEEN\\\\Desktop\\\\Women Entrepreneurs Meetup (Responses).xlsx')"
   ]
  },
  {
   "cell_type": "code",
   "execution_count": 298,
   "metadata": {},
   "outputs": [
    {
     "data": {
      "text/html": [
       "<div>\n",
       "<style scoped>\n",
       "    .dataframe tbody tr th:only-of-type {\n",
       "        vertical-align: middle;\n",
       "    }\n",
       "\n",
       "    .dataframe tbody tr th {\n",
       "        vertical-align: top;\n",
       "    }\n",
       "\n",
       "    .dataframe thead th {\n",
       "        text-align: right;\n",
       "    }\n",
       "</style>\n",
       "<table border=\"1\" class=\"dataframe\">\n",
       "  <thead>\n",
       "    <tr style=\"text-align: right;\">\n",
       "      <th></th>\n",
       "      <th>Timestamp</th>\n",
       "      <th>Full Name</th>\n",
       "      <th>city</th>\n",
       "      <th>Brief about your start-up</th>\n",
       "    </tr>\n",
       "  </thead>\n",
       "  <tbody>\n",
       "    <tr>\n",
       "      <th>0</th>\n",
       "      <td>2020-08-20 16:39:50.273</td>\n",
       "      <td>Mehak Nayyar</td>\n",
       "      <td>Bareilly</td>\n",
       "      <td>Make handmade products at home related to knit...</td>\n",
       "    </tr>\n",
       "    <tr>\n",
       "      <th>1</th>\n",
       "      <td>2020-08-20 18:08:17.990</td>\n",
       "      <td>Anshika Jain</td>\n",
       "      <td>Sagar</td>\n",
       "      <td>Craft based product design</td>\n",
       "    </tr>\n",
       "    <tr>\n",
       "      <th>2</th>\n",
       "      <td>2020-08-20 18:14:07.821</td>\n",
       "      <td>Bhairavee Pradhan-Nitave</td>\n",
       "      <td>Pune</td>\n",
       "      <td>I am a working professional.</td>\n",
       "    </tr>\n",
       "    <tr>\n",
       "      <th>3</th>\n",
       "      <td>2020-08-20 18:21:00.268</td>\n",
       "      <td>Monika</td>\n",
       "      <td>Chennai</td>\n",
       "      <td>Really new to this  so no idea</td>\n",
       "    </tr>\n",
       "    <tr>\n",
       "      <th>4</th>\n",
       "      <td>2020-08-20 19:32:41.238</td>\n",
       "      <td>Stuti Prasad</td>\n",
       "      <td>MUMBAI</td>\n",
       "      <td>I am working with a road safety startup.</td>\n",
       "    </tr>\n",
       "  </tbody>\n",
       "</table>\n",
       "</div>"
      ],
      "text/plain": [
       "                Timestamp                 Full Name      city  \\\n",
       "0 2020-08-20 16:39:50.273              Mehak Nayyar  Bareilly   \n",
       "1 2020-08-20 18:08:17.990              Anshika Jain     Sagar   \n",
       "2 2020-08-20 18:14:07.821  Bhairavee Pradhan-Nitave      Pune   \n",
       "3 2020-08-20 18:21:00.268                    Monika   Chennai   \n",
       "4 2020-08-20 19:32:41.238              Stuti Prasad    MUMBAI   \n",
       "\n",
       "                           Brief about your start-up  \n",
       "0  Make handmade products at home related to knit...  \n",
       "1                         Craft based product design  \n",
       "2                       I am a working professional.  \n",
       "3                    Really new to this  so no idea   \n",
       "4           I am working with a road safety startup.  "
      ]
     },
     "execution_count": 298,
     "metadata": {},
     "output_type": "execute_result"
    }
   ],
   "source": [
    "df.head()"
   ]
  },
  {
   "cell_type": "code",
   "execution_count": 299,
   "metadata": {},
   "outputs": [
    {
     "data": {
      "text/plain": [
       "(98, 4)"
      ]
     },
     "execution_count": 299,
     "metadata": {},
     "output_type": "execute_result"
    }
   ],
   "source": [
    "df.shape"
   ]
  },
  {
   "cell_type": "code",
   "execution_count": 300,
   "metadata": {},
   "outputs": [
    {
     "data": {
      "text/html": [
       "<div>\n",
       "<style scoped>\n",
       "    .dataframe tbody tr th:only-of-type {\n",
       "        vertical-align: middle;\n",
       "    }\n",
       "\n",
       "    .dataframe tbody tr th {\n",
       "        vertical-align: top;\n",
       "    }\n",
       "\n",
       "    .dataframe thead th {\n",
       "        text-align: right;\n",
       "    }\n",
       "</style>\n",
       "<table border=\"1\" class=\"dataframe\">\n",
       "  <thead>\n",
       "    <tr style=\"text-align: right;\">\n",
       "      <th></th>\n",
       "      <th>Timestamp</th>\n",
       "      <th>Full Name</th>\n",
       "      <th>city</th>\n",
       "      <th>Brief about your start-up</th>\n",
       "    </tr>\n",
       "  </thead>\n",
       "  <tbody>\n",
       "    <tr>\n",
       "      <th>count</th>\n",
       "      <td>98</td>\n",
       "      <td>98</td>\n",
       "      <td>98</td>\n",
       "      <td>98</td>\n",
       "    </tr>\n",
       "    <tr>\n",
       "      <th>unique</th>\n",
       "      <td>98</td>\n",
       "      <td>89</td>\n",
       "      <td>58</td>\n",
       "      <td>94</td>\n",
       "    </tr>\n",
       "    <tr>\n",
       "      <th>top</th>\n",
       "      <td>2020-09-04 19:50:08.269000</td>\n",
       "      <td>Anapurna Monga</td>\n",
       "      <td>Pune</td>\n",
       "      <td>Kishma Venture Pvt Ltd</td>\n",
       "    </tr>\n",
       "    <tr>\n",
       "      <th>freq</th>\n",
       "      <td>1</td>\n",
       "      <td>2</td>\n",
       "      <td>15</td>\n",
       "      <td>2</td>\n",
       "    </tr>\n",
       "    <tr>\n",
       "      <th>first</th>\n",
       "      <td>2020-08-20 16:39:50.273000</td>\n",
       "      <td>NaN</td>\n",
       "      <td>NaN</td>\n",
       "      <td>NaN</td>\n",
       "    </tr>\n",
       "    <tr>\n",
       "      <th>last</th>\n",
       "      <td>2020-10-09 14:17:28.803000</td>\n",
       "      <td>NaN</td>\n",
       "      <td>NaN</td>\n",
       "      <td>NaN</td>\n",
       "    </tr>\n",
       "  </tbody>\n",
       "</table>\n",
       "</div>"
      ],
      "text/plain": [
       "                         Timestamp       Full Name  city  \\\n",
       "count                           98              98    98   \n",
       "unique                          98              89    58   \n",
       "top     2020-09-04 19:50:08.269000  Anapurna Monga  Pune   \n",
       "freq                             1               2    15   \n",
       "first   2020-08-20 16:39:50.273000             NaN   NaN   \n",
       "last    2020-10-09 14:17:28.803000             NaN   NaN   \n",
       "\n",
       "       Brief about your start-up  \n",
       "count                         98  \n",
       "unique                        94  \n",
       "top      Kishma Venture Pvt Ltd   \n",
       "freq                           2  \n",
       "first                        NaN  \n",
       "last                         NaN  "
      ]
     },
     "execution_count": 300,
     "metadata": {},
     "output_type": "execute_result"
    }
   ],
   "source": [
    "df.describe()"
   ]
  },
  {
   "cell_type": "code",
   "execution_count": 301,
   "metadata": {},
   "outputs": [],
   "source": [
    "df.rename(columns={'Brief about your start-up':'start-up info'},inplace=True)"
   ]
  },
  {
   "cell_type": "code",
   "execution_count": 302,
   "metadata": {},
   "outputs": [
    {
     "data": {
      "text/html": [
       "<div>\n",
       "<style scoped>\n",
       "    .dataframe tbody tr th:only-of-type {\n",
       "        vertical-align: middle;\n",
       "    }\n",
       "\n",
       "    .dataframe tbody tr th {\n",
       "        vertical-align: top;\n",
       "    }\n",
       "\n",
       "    .dataframe thead th {\n",
       "        text-align: right;\n",
       "    }\n",
       "</style>\n",
       "<table border=\"1\" class=\"dataframe\">\n",
       "  <thead>\n",
       "    <tr style=\"text-align: right;\">\n",
       "      <th></th>\n",
       "      <th>Timestamp</th>\n",
       "      <th>Full Name</th>\n",
       "      <th>city</th>\n",
       "      <th>start-up info</th>\n",
       "    </tr>\n",
       "  </thead>\n",
       "  <tbody>\n",
       "    <tr>\n",
       "      <th>0</th>\n",
       "      <td>2020-08-20 16:39:50.273</td>\n",
       "      <td>Mehak Nayyar</td>\n",
       "      <td>Bareilly</td>\n",
       "      <td>Make handmade products at home related to knit...</td>\n",
       "    </tr>\n",
       "    <tr>\n",
       "      <th>1</th>\n",
       "      <td>2020-08-20 18:08:17.990</td>\n",
       "      <td>Anshika Jain</td>\n",
       "      <td>Sagar</td>\n",
       "      <td>Craft based product design</td>\n",
       "    </tr>\n",
       "    <tr>\n",
       "      <th>2</th>\n",
       "      <td>2020-08-20 18:14:07.821</td>\n",
       "      <td>Bhairavee Pradhan-Nitave</td>\n",
       "      <td>Pune</td>\n",
       "      <td>I am a working professional.</td>\n",
       "    </tr>\n",
       "    <tr>\n",
       "      <th>3</th>\n",
       "      <td>2020-08-20 18:21:00.268</td>\n",
       "      <td>Monika</td>\n",
       "      <td>Chennai</td>\n",
       "      <td>Really new to this  so no idea</td>\n",
       "    </tr>\n",
       "    <tr>\n",
       "      <th>4</th>\n",
       "      <td>2020-08-20 19:32:41.238</td>\n",
       "      <td>Stuti Prasad</td>\n",
       "      <td>MUMBAI</td>\n",
       "      <td>I am working with a road safety startup.</td>\n",
       "    </tr>\n",
       "  </tbody>\n",
       "</table>\n",
       "</div>"
      ],
      "text/plain": [
       "                Timestamp                 Full Name      city  \\\n",
       "0 2020-08-20 16:39:50.273              Mehak Nayyar  Bareilly   \n",
       "1 2020-08-20 18:08:17.990              Anshika Jain     Sagar   \n",
       "2 2020-08-20 18:14:07.821  Bhairavee Pradhan-Nitave      Pune   \n",
       "3 2020-08-20 18:21:00.268                    Monika   Chennai   \n",
       "4 2020-08-20 19:32:41.238              Stuti Prasad    MUMBAI   \n",
       "\n",
       "                                       start-up info  \n",
       "0  Make handmade products at home related to knit...  \n",
       "1                         Craft based product design  \n",
       "2                       I am a working professional.  \n",
       "3                    Really new to this  so no idea   \n",
       "4           I am working with a road safety startup.  "
      ]
     },
     "execution_count": 302,
     "metadata": {},
     "output_type": "execute_result"
    }
   ],
   "source": [
    "df.head()"
   ]
  },
  {
   "cell_type": "code",
   "execution_count": 303,
   "metadata": {},
   "outputs": [],
   "source": [
    "#Natural language processing\n",
    "import nltk\n",
    "from nltk.tokenize import word_tokenize"
   ]
  },
  {
   "cell_type": "code",
   "execution_count": 304,
   "metadata": {},
   "outputs": [],
   "source": [
    "from nltk.corpus import stopwords  "
   ]
  },
  {
   "cell_type": "code",
   "execution_count": 305,
   "metadata": {},
   "outputs": [
    {
     "name": "stderr",
     "output_type": "stream",
     "text": [
      "[nltk_data] Downloading package stopwords to C:\\Users\\ARUN\n",
      "[nltk_data]     PRAVEEN\\AppData\\Roaming\\nltk_data...\n",
      "[nltk_data]   Package stopwords is already up-to-date!\n"
     ]
    },
    {
     "data": {
      "text/plain": [
       "True"
      ]
     },
     "execution_count": 305,
     "metadata": {},
     "output_type": "execute_result"
    }
   ],
   "source": [
    "\n",
    "nltk.download('stopwords')\n"
   ]
  },
  {
   "cell_type": "code",
   "execution_count": 306,
   "metadata": {},
   "outputs": [],
   "source": [
    "stop_words=stopwords.words('english')\n"
   ]
  },
  {
   "cell_type": "code",
   "execution_count": 307,
   "metadata": {},
   "outputs": [
    {
     "data": {
      "text/plain": [
       "179"
      ]
     },
     "execution_count": 307,
     "metadata": {},
     "output_type": "execute_result"
    }
   ],
   "source": [
    "len(stop_words)"
   ]
  },
  {
   "cell_type": "code",
   "execution_count": 308,
   "metadata": {},
   "outputs": [],
   "source": [
    "import string\n",
    "def post_punc(x):\n",
    "    s=str.maketrans('','',string.punctuation)\n",
    "    return x.translate(s)\n",
    "    "
   ]
  },
  {
   "cell_type": "code",
   "execution_count": 309,
   "metadata": {},
   "outputs": [],
   "source": [
    "df['start-up info']=df['start-up info'].apply(post_punc)"
   ]
  },
  {
   "cell_type": "code",
   "execution_count": 310,
   "metadata": {},
   "outputs": [
    {
     "data": {
      "text/html": [
       "<div>\n",
       "<style scoped>\n",
       "    .dataframe tbody tr th:only-of-type {\n",
       "        vertical-align: middle;\n",
       "    }\n",
       "\n",
       "    .dataframe tbody tr th {\n",
       "        vertical-align: top;\n",
       "    }\n",
       "\n",
       "    .dataframe thead th {\n",
       "        text-align: right;\n",
       "    }\n",
       "</style>\n",
       "<table border=\"1\" class=\"dataframe\">\n",
       "  <thead>\n",
       "    <tr style=\"text-align: right;\">\n",
       "      <th></th>\n",
       "      <th>Timestamp</th>\n",
       "      <th>Full Name</th>\n",
       "      <th>city</th>\n",
       "      <th>start-up info</th>\n",
       "    </tr>\n",
       "  </thead>\n",
       "  <tbody>\n",
       "    <tr>\n",
       "      <th>0</th>\n",
       "      <td>2020-08-20 16:39:50.273</td>\n",
       "      <td>Mehak Nayyar</td>\n",
       "      <td>Bareilly</td>\n",
       "      <td>Make handmade products at home related to knit...</td>\n",
       "    </tr>\n",
       "    <tr>\n",
       "      <th>1</th>\n",
       "      <td>2020-08-20 18:08:17.990</td>\n",
       "      <td>Anshika Jain</td>\n",
       "      <td>Sagar</td>\n",
       "      <td>Craft based product design</td>\n",
       "    </tr>\n",
       "    <tr>\n",
       "      <th>2</th>\n",
       "      <td>2020-08-20 18:14:07.821</td>\n",
       "      <td>Bhairavee Pradhan-Nitave</td>\n",
       "      <td>Pune</td>\n",
       "      <td>I am a working professional</td>\n",
       "    </tr>\n",
       "    <tr>\n",
       "      <th>3</th>\n",
       "      <td>2020-08-20 18:21:00.268</td>\n",
       "      <td>Monika</td>\n",
       "      <td>Chennai</td>\n",
       "      <td>Really new to this  so no idea</td>\n",
       "    </tr>\n",
       "    <tr>\n",
       "      <th>4</th>\n",
       "      <td>2020-08-20 19:32:41.238</td>\n",
       "      <td>Stuti Prasad</td>\n",
       "      <td>MUMBAI</td>\n",
       "      <td>I am working with a road safety startup</td>\n",
       "    </tr>\n",
       "  </tbody>\n",
       "</table>\n",
       "</div>"
      ],
      "text/plain": [
       "                Timestamp                 Full Name      city  \\\n",
       "0 2020-08-20 16:39:50.273              Mehak Nayyar  Bareilly   \n",
       "1 2020-08-20 18:08:17.990              Anshika Jain     Sagar   \n",
       "2 2020-08-20 18:14:07.821  Bhairavee Pradhan-Nitave      Pune   \n",
       "3 2020-08-20 18:21:00.268                    Monika   Chennai   \n",
       "4 2020-08-20 19:32:41.238              Stuti Prasad    MUMBAI   \n",
       "\n",
       "                                       start-up info  \n",
       "0  Make handmade products at home related to knit...  \n",
       "1                         Craft based product design  \n",
       "2                        I am a working professional  \n",
       "3                    Really new to this  so no idea   \n",
       "4            I am working with a road safety startup  "
      ]
     },
     "execution_count": 310,
     "metadata": {},
     "output_type": "execute_result"
    }
   ],
   "source": [
    "df.head()"
   ]
  },
  {
   "cell_type": "code",
   "execution_count": 311,
   "metadata": {},
   "outputs": [],
   "source": [
    "def remove_stopwords(x):\n",
    "    x=[word.lower() for word in x.split() if word.lower() not in stop_words]\n",
    "    return (\" \").join(x)"
   ]
  },
  {
   "cell_type": "code",
   "execution_count": 312,
   "metadata": {},
   "outputs": [],
   "source": [
    "df['start-up info']=df['start-up info'].apply(remove_stopwords)"
   ]
  },
  {
   "cell_type": "code",
   "execution_count": 313,
   "metadata": {},
   "outputs": [
    {
     "data": {
      "text/html": [
       "<div>\n",
       "<style scoped>\n",
       "    .dataframe tbody tr th:only-of-type {\n",
       "        vertical-align: middle;\n",
       "    }\n",
       "\n",
       "    .dataframe tbody tr th {\n",
       "        vertical-align: top;\n",
       "    }\n",
       "\n",
       "    .dataframe thead th {\n",
       "        text-align: right;\n",
       "    }\n",
       "</style>\n",
       "<table border=\"1\" class=\"dataframe\">\n",
       "  <thead>\n",
       "    <tr style=\"text-align: right;\">\n",
       "      <th></th>\n",
       "      <th>Timestamp</th>\n",
       "      <th>Full Name</th>\n",
       "      <th>city</th>\n",
       "      <th>start-up info</th>\n",
       "    </tr>\n",
       "  </thead>\n",
       "  <tbody>\n",
       "    <tr>\n",
       "      <th>0</th>\n",
       "      <td>2020-08-20 16:39:50.273</td>\n",
       "      <td>Mehak Nayyar</td>\n",
       "      <td>Bareilly</td>\n",
       "      <td>make handmade products home related knitted dr...</td>\n",
       "    </tr>\n",
       "    <tr>\n",
       "      <th>1</th>\n",
       "      <td>2020-08-20 18:08:17.990</td>\n",
       "      <td>Anshika Jain</td>\n",
       "      <td>Sagar</td>\n",
       "      <td>craft based product design</td>\n",
       "    </tr>\n",
       "    <tr>\n",
       "      <th>2</th>\n",
       "      <td>2020-08-20 18:14:07.821</td>\n",
       "      <td>Bhairavee Pradhan-Nitave</td>\n",
       "      <td>Pune</td>\n",
       "      <td>working professional</td>\n",
       "    </tr>\n",
       "    <tr>\n",
       "      <th>3</th>\n",
       "      <td>2020-08-20 18:21:00.268</td>\n",
       "      <td>Monika</td>\n",
       "      <td>Chennai</td>\n",
       "      <td>really new idea</td>\n",
       "    </tr>\n",
       "    <tr>\n",
       "      <th>4</th>\n",
       "      <td>2020-08-20 19:32:41.238</td>\n",
       "      <td>Stuti Prasad</td>\n",
       "      <td>MUMBAI</td>\n",
       "      <td>working road safety startup</td>\n",
       "    </tr>\n",
       "  </tbody>\n",
       "</table>\n",
       "</div>"
      ],
      "text/plain": [
       "                Timestamp                 Full Name      city  \\\n",
       "0 2020-08-20 16:39:50.273              Mehak Nayyar  Bareilly   \n",
       "1 2020-08-20 18:08:17.990              Anshika Jain     Sagar   \n",
       "2 2020-08-20 18:14:07.821  Bhairavee Pradhan-Nitave      Pune   \n",
       "3 2020-08-20 18:21:00.268                    Monika   Chennai   \n",
       "4 2020-08-20 19:32:41.238              Stuti Prasad    MUMBAI   \n",
       "\n",
       "                                       start-up info  \n",
       "0  make handmade products home related knitted dr...  \n",
       "1                         craft based product design  \n",
       "2                               working professional  \n",
       "3                                    really new idea  \n",
       "4                        working road safety startup  "
      ]
     },
     "execution_count": 313,
     "metadata": {},
     "output_type": "execute_result"
    }
   ],
   "source": [
    "df.head()"
   ]
  },
  {
   "cell_type": "code",
   "execution_count": 314,
   "metadata": {},
   "outputs": [],
   "source": [
    "from nltk.probability import FreqDist\n",
    "fdist=FreqDist()"
   ]
  },
  {
   "cell_type": "code",
   "execution_count": 315,
   "metadata": {},
   "outputs": [],
   "source": [
    "for i in df['start-up info']:\n",
    "    for words in i.split():\n",
    "        fdist[words.lower()]+=1"
   ]
  },
  {
   "cell_type": "code",
   "execution_count": 316,
   "metadata": {},
   "outputs": [
    {
     "data": {
      "text/plain": [
       "[('startup', 11),\n",
       " ('women', 11),\n",
       " ('ngos', 10),\n",
       " ('working', 9),\n",
       " ('business', 9),\n",
       " ('financial', 9),\n",
       " ('started', 7),\n",
       " ('well', 7),\n",
       " ('art', 6),\n",
       " ('start', 6)]"
      ]
     },
     "execution_count": 316,
     "metadata": {},
     "output_type": "execute_result"
    }
   ],
   "source": [
    "fdist_topten=fdist.most_common(10)\n",
    "fdist_topten"
   ]
  },
  {
   "cell_type": "code",
   "execution_count": 317,
   "metadata": {},
   "outputs": [],
   "source": [
    "Domains=['Foods','Healthcare','Technical stuffs','dress& Craft design',\n",
    "          'Society','Consultancy','Education','Entertainment','Mixed','New idea']"
   ]
  },
  {
   "cell_type": "code",
   "execution_count": 318,
   "metadata": {},
   "outputs": [
    {
     "data": {
      "text/plain": [
       "['dress& Craft design',\n",
       " 'dress& Craft design',\n",
       " 'Mixed',\n",
       " 'New idea',\n",
       " 'Technical stuffs',\n",
       " 'New idea',\n",
       " 'Mixed',\n",
       " 'Education',\n",
       " 'Technical stuffs',\n",
       " 'Mixed',\n",
       " 'Mixed',\n",
       " 'Mixed',\n",
       " 'Consultancy',\n",
       " 'Mixed',\n",
       " 'Mixed',\n",
       " 'New idea',\n",
       " 'Consultancy',\n",
       " 'Consultancy',\n",
       " 'Entertainment',\n",
       " 'New idea',\n",
       " 'New idea',\n",
       " 'dress& Craft design',\n",
       " 'Entertainment',\n",
       " 'New idea',\n",
       " 'dress& Craft design',\n",
       " 'Consultancy',\n",
       " 'Foods',\n",
       " 'Consultancy',\n",
       " 'Entertainment',\n",
       " 'dress& Craft design',\n",
       " 'Technical stuffs',\n",
       " 'Society',\n",
       " 'Foods',\n",
       " 'Consultancy',\n",
       " 'Consultancy',\n",
       " 'New idea',\n",
       " 'Entertainment',\n",
       " 'Society',\n",
       " 'dress& Craft design',\n",
       " 'Society',\n",
       " 'New idea',\n",
       " 'Society',\n",
       " 'Mixed',\n",
       " 'dress& Craft design',\n",
       " 'New idea',\n",
       " 'Consultancy',\n",
       " 'Mixed',\n",
       " 'dress& Craft design',\n",
       " 'dress& Craft design',\n",
       " 'Mixed',\n",
       " 'Education',\n",
       " 'New idea',\n",
       " 'Foods',\n",
       " 'Mixed',\n",
       " 'Healthcare',\n",
       " 'New idea',\n",
       " 'New idea',\n",
       " 'Foods',\n",
       " 'dress& Craft design',\n",
       " 'dress& Craft design',\n",
       " 'Society',\n",
       " 'New idea',\n",
       " 'dress& Craft design',\n",
       " 'Society',\n",
       " 'dress& Craft design',\n",
       " 'Foods',\n",
       " 'Technical stuffs',\n",
       " 'Healthcare',\n",
       " 'Mixed',\n",
       " 'Education',\n",
       " 'Mixed',\n",
       " 'Foods',\n",
       " 'Healthcare',\n",
       " 'Education',\n",
       " 'Technical stuffs',\n",
       " 'Technical stuffs',\n",
       " 'Mixed',\n",
       " 'Foods',\n",
       " 'New idea',\n",
       " 'Foods',\n",
       " 'Education',\n",
       " 'Mixed',\n",
       " 'New idea',\n",
       " 'New idea',\n",
       " 'Technical stuffs',\n",
       " 'Society',\n",
       " 'dress& Craft design',\n",
       " 'dress& Craft design',\n",
       " 'Mixed',\n",
       " 'New idea',\n",
       " 'Mixed',\n",
       " 'Foods',\n",
       " 'Mixed',\n",
       " 'Society',\n",
       " 'Education',\n",
       " 'Consultancy',\n",
       " 'Education',\n",
       " 'Society']"
      ]
     },
     "execution_count": 318,
     "metadata": {},
     "output_type": "execute_result"
    }
   ],
   "source": [
    "startup_Domain=[]\n",
    "for i in range(len(df)):\n",
    "    if i in [26,32,52,57,65,71,77,79,91]:\n",
    "        startup_Domain.append(Domains[0])\n",
    "    elif i in [54,67,72]:\n",
    "        startup_Domain.append(Domains[1])\n",
    "    elif i in [4,8,30,66,74,75,84]:\n",
    "        startup_Domain.append(Domains[2])\n",
    "    elif i in [0,1,21,24,29,38,43,47,48,58,59,62,64,86,87]:\n",
    "        startup_Domain.append(Domains[3])\n",
    "    elif i in [31,37,39,41,60,63,85,93,97]:\n",
    "        startup_Domain.append(Domains[4])\n",
    "    elif i in [12,16,17,25,27,33,34,45,95]:\n",
    "        startup_Domain.append(Domains[5])\n",
    "    elif i in [7,50,69,73,80,94,96]:\n",
    "        startup_Domain.append(Domains[6])\n",
    "    elif i in [18,22,28,36]:\n",
    "        startup_Domain.append(Domains[7])\n",
    "    elif i in [2,6,9,10,11,13,14,16,42,46,49,53,68,70,76,81,88,90,92]:\n",
    "        startup_Domain.append(Domains[8])\n",
    "    else:\n",
    "        startup_Domain.append(Domains[9])  \n",
    "startup_Domain"
   ]
  },
  {
   "cell_type": "code",
   "execution_count": 319,
   "metadata": {},
   "outputs": [],
   "source": [
    "df['startup_Domains']=startup_Domain"
   ]
  },
  {
   "cell_type": "code",
   "execution_count": 320,
   "metadata": {},
   "outputs": [
    {
     "data": {
      "text/html": [
       "<div>\n",
       "<style scoped>\n",
       "    .dataframe tbody tr th:only-of-type {\n",
       "        vertical-align: middle;\n",
       "    }\n",
       "\n",
       "    .dataframe tbody tr th {\n",
       "        vertical-align: top;\n",
       "    }\n",
       "\n",
       "    .dataframe thead th {\n",
       "        text-align: right;\n",
       "    }\n",
       "</style>\n",
       "<table border=\"1\" class=\"dataframe\">\n",
       "  <thead>\n",
       "    <tr style=\"text-align: right;\">\n",
       "      <th></th>\n",
       "      <th>Timestamp</th>\n",
       "      <th>Full Name</th>\n",
       "      <th>city</th>\n",
       "      <th>start-up info</th>\n",
       "      <th>startup_Domains</th>\n",
       "    </tr>\n",
       "  </thead>\n",
       "  <tbody>\n",
       "    <tr>\n",
       "      <th>0</th>\n",
       "      <td>2020-08-20 16:39:50.273</td>\n",
       "      <td>Mehak Nayyar</td>\n",
       "      <td>Bareilly</td>\n",
       "      <td>make handmade products home related knitted dr...</td>\n",
       "      <td>dress&amp; Craft design</td>\n",
       "    </tr>\n",
       "    <tr>\n",
       "      <th>1</th>\n",
       "      <td>2020-08-20 18:08:17.990</td>\n",
       "      <td>Anshika Jain</td>\n",
       "      <td>Sagar</td>\n",
       "      <td>craft based product design</td>\n",
       "      <td>dress&amp; Craft design</td>\n",
       "    </tr>\n",
       "    <tr>\n",
       "      <th>2</th>\n",
       "      <td>2020-08-20 18:14:07.821</td>\n",
       "      <td>Bhairavee Pradhan-Nitave</td>\n",
       "      <td>Pune</td>\n",
       "      <td>working professional</td>\n",
       "      <td>Mixed</td>\n",
       "    </tr>\n",
       "    <tr>\n",
       "      <th>3</th>\n",
       "      <td>2020-08-20 18:21:00.268</td>\n",
       "      <td>Monika</td>\n",
       "      <td>Chennai</td>\n",
       "      <td>really new idea</td>\n",
       "      <td>New idea</td>\n",
       "    </tr>\n",
       "    <tr>\n",
       "      <th>4</th>\n",
       "      <td>2020-08-20 19:32:41.238</td>\n",
       "      <td>Stuti Prasad</td>\n",
       "      <td>MUMBAI</td>\n",
       "      <td>working road safety startup</td>\n",
       "      <td>Technical stuffs</td>\n",
       "    </tr>\n",
       "  </tbody>\n",
       "</table>\n",
       "</div>"
      ],
      "text/plain": [
       "                Timestamp                 Full Name      city  \\\n",
       "0 2020-08-20 16:39:50.273              Mehak Nayyar  Bareilly   \n",
       "1 2020-08-20 18:08:17.990              Anshika Jain     Sagar   \n",
       "2 2020-08-20 18:14:07.821  Bhairavee Pradhan-Nitave      Pune   \n",
       "3 2020-08-20 18:21:00.268                    Monika   Chennai   \n",
       "4 2020-08-20 19:32:41.238              Stuti Prasad    MUMBAI   \n",
       "\n",
       "                                       start-up info      startup_Domains  \n",
       "0  make handmade products home related knitted dr...  dress& Craft design  \n",
       "1                         craft based product design  dress& Craft design  \n",
       "2                               working professional                Mixed  \n",
       "3                                    really new idea             New idea  \n",
       "4                        working road safety startup     Technical stuffs  "
      ]
     },
     "execution_count": 320,
     "metadata": {},
     "output_type": "execute_result"
    }
   ],
   "source": [
    "df.head()"
   ]
  },
  {
   "cell_type": "code",
   "execution_count": 321,
   "metadata": {},
   "outputs": [
    {
     "data": {
      "text/plain": [
       "<bound method Series.unique of 0        Bareilly\n",
       "1           Sagar\n",
       "2            Pune\n",
       "3         Chennai\n",
       "4          MUMBAI\n",
       "         ...     \n",
       "93    Navi Mumbai\n",
       "94         Mumbai\n",
       "95       Shillong\n",
       "96           Pune\n",
       "97      HYDERABAD\n",
       "Name: city, Length: 98, dtype: object>"
      ]
     },
     "execution_count": 321,
     "metadata": {},
     "output_type": "execute_result"
    }
   ],
   "source": [
    "df.city.unique"
   ]
  },
  {
   "cell_type": "code",
   "execution_count": 322,
   "metadata": {},
   "outputs": [],
   "source": [
    "df['city']=df['city'].str.lower().str.strip()"
   ]
  },
  {
   "cell_type": "code",
   "execution_count": 323,
   "metadata": {},
   "outputs": [
    {
     "data": {
      "text/plain": [
       "pune                16\n",
       "mumbai               8\n",
       "guwahati             7\n",
       "bangalore            5\n",
       "new delhi            5\n",
       "hyderabad            5\n",
       "visakhapatnam        5\n",
       "delhi                4\n",
       "noida                3\n",
       "vadodara             2\n",
       "shillong             2\n",
       "bihar                2\n",
       "bareilly             2\n",
       "lucknow              2\n",
       "tezpur               2\n",
       "chintamani           1\n",
       "indore               1\n",
       "south west delhi     1\n",
       "nashik               1\n",
       "hoshangabad m.p.     1\n",
       "nagpur               1\n",
       "saharsa              1\n",
       "ponda goa            1\n",
       "navi mumbai          1\n",
       "kolkata              1\n",
       "jagdalpur            1\n",
       "raipur               1\n",
       "yamunanagar          1\n",
       "sagar                1\n",
       "udaipur              1\n",
       "patna                1\n",
       "raigad               1\n",
       "ghaziabad            1\n",
       "moradabad            1\n",
       "banglore             1\n",
       "jabalpur             1\n",
       "dehradun             1\n",
       "london               1\n",
       "hyd                  1\n",
       "kurukshetra          1\n",
       "chennai              1\n",
       "amritsar             1\n",
       "ranchi               1\n",
       "Name: city, dtype: int64"
      ]
     },
     "execution_count": 323,
     "metadata": {},
     "output_type": "execute_result"
    }
   ],
   "source": [
    "df['city'].value_counts()"
   ]
  },
  {
   "cell_type": "code",
   "execution_count": 324,
   "metadata": {},
   "outputs": [
    {
     "data": {
      "text/plain": [
       "<bound method IndexOpsMixin.value_counts of 0     False\n",
       "1     False\n",
       "2     False\n",
       "3     False\n",
       "4     False\n",
       "      ...  \n",
       "93    False\n",
       "94    False\n",
       "95    False\n",
       "96    False\n",
       "97    False\n",
       "Name: city, Length: 98, dtype: bool>"
      ]
     },
     "execution_count": 324,
     "metadata": {},
     "output_type": "execute_result"
    }
   ],
   "source": [
    "df['city'].isna().value_counts"
   ]
  },
  {
   "cell_type": "code",
   "execution_count": 325,
   "metadata": {},
   "outputs": [
    {
     "data": {
      "text/html": [
       "<div>\n",
       "<style scoped>\n",
       "    .dataframe tbody tr th:only-of-type {\n",
       "        vertical-align: middle;\n",
       "    }\n",
       "\n",
       "    .dataframe tbody tr th {\n",
       "        vertical-align: top;\n",
       "    }\n",
       "\n",
       "    .dataframe thead th {\n",
       "        text-align: right;\n",
       "    }\n",
       "</style>\n",
       "<table border=\"1\" class=\"dataframe\">\n",
       "  <thead>\n",
       "    <tr style=\"text-align: right;\">\n",
       "      <th></th>\n",
       "      <th>Timestamp</th>\n",
       "      <th>Full Name</th>\n",
       "      <th>city</th>\n",
       "      <th>start-up info</th>\n",
       "      <th>startup_Domains</th>\n",
       "    </tr>\n",
       "  </thead>\n",
       "  <tbody>\n",
       "    <tr>\n",
       "      <th>0</th>\n",
       "      <td>2020-08-20 16:39:50.273</td>\n",
       "      <td>Mehak Nayyar</td>\n",
       "      <td>bareilly</td>\n",
       "      <td>make handmade products home related knitted dr...</td>\n",
       "      <td>dress&amp; Craft design</td>\n",
       "    </tr>\n",
       "    <tr>\n",
       "      <th>1</th>\n",
       "      <td>2020-08-20 18:08:17.990</td>\n",
       "      <td>Anshika Jain</td>\n",
       "      <td>sagar</td>\n",
       "      <td>craft based product design</td>\n",
       "      <td>dress&amp; Craft design</td>\n",
       "    </tr>\n",
       "    <tr>\n",
       "      <th>2</th>\n",
       "      <td>2020-08-20 18:14:07.821</td>\n",
       "      <td>Bhairavee Pradhan-Nitave</td>\n",
       "      <td>pune</td>\n",
       "      <td>working professional</td>\n",
       "      <td>Mixed</td>\n",
       "    </tr>\n",
       "    <tr>\n",
       "      <th>3</th>\n",
       "      <td>2020-08-20 18:21:00.268</td>\n",
       "      <td>Monika</td>\n",
       "      <td>chennai</td>\n",
       "      <td>really new idea</td>\n",
       "      <td>New idea</td>\n",
       "    </tr>\n",
       "    <tr>\n",
       "      <th>4</th>\n",
       "      <td>2020-08-20 19:32:41.238</td>\n",
       "      <td>Stuti Prasad</td>\n",
       "      <td>mumbai</td>\n",
       "      <td>working road safety startup</td>\n",
       "      <td>Technical stuffs</td>\n",
       "    </tr>\n",
       "  </tbody>\n",
       "</table>\n",
       "</div>"
      ],
      "text/plain": [
       "                Timestamp                 Full Name      city  \\\n",
       "0 2020-08-20 16:39:50.273              Mehak Nayyar  bareilly   \n",
       "1 2020-08-20 18:08:17.990              Anshika Jain     sagar   \n",
       "2 2020-08-20 18:14:07.821  Bhairavee Pradhan-Nitave      pune   \n",
       "3 2020-08-20 18:21:00.268                    Monika   chennai   \n",
       "4 2020-08-20 19:32:41.238              Stuti Prasad    mumbai   \n",
       "\n",
       "                                       start-up info      startup_Domains  \n",
       "0  make handmade products home related knitted dr...  dress& Craft design  \n",
       "1                         craft based product design  dress& Craft design  \n",
       "2                               working professional                Mixed  \n",
       "3                                    really new idea             New idea  \n",
       "4                        working road safety startup     Technical stuffs  "
      ]
     },
     "execution_count": 325,
     "metadata": {},
     "output_type": "execute_result"
    }
   ],
   "source": [
    "df.head()"
   ]
  },
  {
   "cell_type": "code",
   "execution_count": 326,
   "metadata": {},
   "outputs": [],
   "source": [
    "df.to_excel('C:\\\\Users\\\\ARUN PRAVEEN\\\\Desktop\\\\updated_Women Entrepreneurship.xlsx',index=False)\n"
   ]
  },
  {
   "cell_type": "code",
   "execution_count": null,
   "metadata": {},
   "outputs": [],
   "source": []
  }
 ],
 "metadata": {
  "kernelspec": {
   "display_name": "Python 3",
   "language": "python",
   "name": "python3"
  },
  "language_info": {
   "codemirror_mode": {
    "name": "ipython",
    "version": 3
   },
   "file_extension": ".py",
   "mimetype": "text/x-python",
   "name": "python",
   "nbconvert_exporter": "python",
   "pygments_lexer": "ipython3",
   "version": "3.7.6"
  }
 },
 "nbformat": 4,
 "nbformat_minor": 4
}
